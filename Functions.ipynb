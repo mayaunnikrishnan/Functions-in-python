{
  "nbformat": 4,
  "nbformat_minor": 0,
  "metadata": {
    "colab": {
      "provenance": []
    },
    "kernelspec": {
      "name": "python3",
      "display_name": "Python 3"
    },
    "language_info": {
      "name": "python"
    }
  },
  "cells": [
    {
      "cell_type": "markdown",
      "source": [
        "# **Functions:**\n",
        "\n",
        "Functions are a fundamental concept in programming that allow you to organize and modularize your code. A function is a block of code that performs a specific task and can be reused throughout your program. Functions help you break down complex tasks into smaller, manageable components, making your code more organized, readable, and maintainable.\n",
        "\n",
        "Functions in programming serve several purposes:\n",
        "\n",
        "Reusability:\n",
        "\n",
        "You can define a function once and use it multiple times in different parts of your program, reducing code duplication.\n",
        "\n",
        "Modularity:\n",
        "\n",
        "Functions allow you to divide your code into smaller, self-contained modules. This makes your code easier to understand and maintain.\n",
        "\n",
        "Abstraction:\n",
        "\n",
        "Functions encapsulate complex operations behind a simple interface, allowing you to use the function without needing to understand its internal implementation details.\n",
        "\n",
        "Readability:\n",
        "\n",
        "By giving meaningful names to functions, you can make your code more readable and self-explanatory.\n",
        "\n",
        "Parameterization:\n",
        "\n",
        "Functions can accept input parameters, enabling you to customize their behavior based on the input provided.\n",
        "\n",
        "Return Values:\n",
        "\n",
        "Functions can return values as results of their computations, allowing you to use the calculated values elsewhere in your program."
      ],
      "metadata": {
        "id": "Ffq7ZJFNob3T"
      }
    },
    {
      "cell_type": "code",
      "execution_count": null,
      "metadata": {
        "id": "3jXaN731mxBj"
      },
      "outputs": [],
      "source": [
        "def function_name(parameters):\n",
        "    # Function body\n",
        "    # ...\n",
        "    return result  # Optional"
      ]
    },
    {
      "cell_type": "markdown",
      "source": [
        "**def**: Keyword used to define a function.\n",
        "\n",
        "**function_name**: Name of the function, which should follow the naming rules of variables.\n",
        "\n",
        "**parameters**: Input values that the function accepts. They are enclosed in parentheses and separated by commas.\n",
        "\n",
        "'**:**'  : Colon indicates the start of the function's body.\n",
        "\n",
        "**return result**: Optional statement that returns a value from the function. If omitted, the function returns None."
      ],
      "metadata": {
        "id": "CGT4K4VRo-G0"
      }
    },
    {
      "cell_type": "code",
      "source": [
        "def calculate_rectangle_area(length, width):\n",
        "    area = length * width\n",
        "    return area\n",
        "\n",
        "length = 5\n",
        "width = 3\n",
        "area = calculate_rectangle_area(length, width)\n",
        "print(\"Area:\", area)"
      ],
      "metadata": {
        "colab": {
          "base_uri": "https://localhost:8080/"
        },
        "id": "gliTrTVIpYtC",
        "outputId": "81b5d9d5-5f1e-41e3-cd29-31f029a8316b"
      },
      "execution_count": null,
      "outputs": [
        {
          "output_type": "stream",
          "name": "stdout",
          "text": [
            "Area: 15\n"
          ]
        }
      ]
    },
    {
      "cell_type": "code",
      "source": [
        "print(calculate_rectangle_area(7,10))"
      ],
      "metadata": {
        "colab": {
          "base_uri": "https://localhost:8080/"
        },
        "id": "co0CvAE72Ffr",
        "outputId": "6e8ecae6-e918-48fc-93a9-8ea999138194"
      },
      "execution_count": null,
      "outputs": [
        {
          "output_type": "stream",
          "name": "stdout",
          "text": [
            "70\n"
          ]
        }
      ]
    },
    {
      "cell_type": "markdown",
      "source": [
        "## Parameters:\n",
        "\n",
        "Parameters are placeholders within the function's definition that represent the data the function expects to receive when it's called. They act as variables inside the function. When defining a function, you specify its parameters within the parentheses following the function name."
      ],
      "metadata": {
        "id": "Ezo_TceNqPbZ"
      }
    },
    {
      "cell_type": "code",
      "source": [
        "def greet(name):\n",
        "    print(\"Hello, \" + name + \"!\")\n",
        "#In this example, name is a parameter of the greet() function."
      ],
      "metadata": {
        "id": "TT56qcfxqTjK"
      },
      "execution_count": null,
      "outputs": []
    },
    {
      "cell_type": "markdown",
      "source": [
        "\n",
        "## Arguments:\n",
        "Arguments are the actual values or data that you provide to a function when you call it. Arguments are passed to the function in the order of the parameters they correspond to."
      ],
      "metadata": {
        "id": "Jg8V4de4qSyy"
      }
    },
    {
      "cell_type": "code",
      "source": [
        "greet(\"Alice\")\n",
        "#In this case, \"Alice\" is an argument that matches the name parameter of the greet() function."
      ],
      "metadata": {
        "colab": {
          "base_uri": "https://localhost:8080/"
        },
        "id": "f_KZZcOOqi9S",
        "outputId": "4cf87b97-b84f-456e-bd1d-3dd33da8e236"
      },
      "execution_count": null,
      "outputs": [
        {
          "output_type": "stream",
          "name": "stdout",
          "text": [
            "Hello, Alice!\n"
          ]
        }
      ]
    },
    {
      "cell_type": "markdown",
      "source": [
        "### Positional Arguments:\n",
        "\n",
        "Positional arguments are passed based on their position in the function call. The order matters, and each argument is matched with its corresponding parameter in the order they appear."
      ],
      "metadata": {
        "id": "G71w7J6UqzOC"
      }
    },
    {
      "cell_type": "code",
      "source": [
        "def add(a, b):\n",
        "    return a + b\n",
        "\n",
        "result = add(5, 3)\n",
        "#Here, 5 is matched with parameter a and 3 with parameter b."
      ],
      "metadata": {
        "id": "67SEwzKTq1la"
      },
      "execution_count": null,
      "outputs": []
    },
    {
      "cell_type": "code",
      "source": [
        "print(result)"
      ],
      "metadata": {
        "colab": {
          "base_uri": "https://localhost:8080/"
        },
        "id": "GbFrB7R9rADa",
        "outputId": "d8e7edcc-216b-46ea-f17a-28f8a0ae3123"
      },
      "execution_count": null,
      "outputs": [
        {
          "output_type": "stream",
          "name": "stdout",
          "text": [
            "8\n"
          ]
        }
      ]
    },
    {
      "cell_type": "markdown",
      "source": [
        "### Keyword Arguments:\n",
        "\n",
        "Keyword arguments allow you to specify arguments using the parameter names, so the order doesn't matter. This can enhance code readability."
      ],
      "metadata": {
        "id": "yEszcbh_rEXy"
      }
    },
    {
      "cell_type": "code",
      "source": [
        "result = add(b=9, a=10)\n",
        "print(result)"
      ],
      "metadata": {
        "colab": {
          "base_uri": "https://localhost:8080/"
        },
        "id": "GIIUK9b7rMEi",
        "outputId": "760a71d4-0108-4ef7-8d37-e894b205ef6b"
      },
      "execution_count": null,
      "outputs": [
        {
          "output_type": "stream",
          "name": "stdout",
          "text": [
            "19\n"
          ]
        }
      ]
    },
    {
      "cell_type": "markdown",
      "source": [
        "### Default Parameters:\n",
        "\n",
        "You can assign default values to parameters, making them optional. If an argument isn't provided when calling the function, the default value is used."
      ],
      "metadata": {
        "id": "0ijb0jtTra_C"
      }
    },
    {
      "cell_type": "code",
      "source": [
        "def power(base, exponent=2):\n",
        "    return base ** exponent"
      ],
      "metadata": {
        "id": "xfP7Q2krrdey"
      },
      "execution_count": null,
      "outputs": []
    },
    {
      "cell_type": "code",
      "source": [
        "result = power(3)  # Uses default exponent of 2"
      ],
      "metadata": {
        "id": "0qfS2jR8rjHC"
      },
      "execution_count": null,
      "outputs": []
    },
    {
      "cell_type": "code",
      "source": [
        "result = power(3,3)"
      ],
      "metadata": {
        "id": "6QqACvUV3Ntz"
      },
      "execution_count": null,
      "outputs": []
    },
    {
      "cell_type": "code",
      "source": [
        "print(result)"
      ],
      "metadata": {
        "colab": {
          "base_uri": "https://localhost:8080/"
        },
        "id": "qDB_r9v7rpqi",
        "outputId": "fb48f4d4-d85f-4c5f-8719-7dd073290c21"
      },
      "execution_count": null,
      "outputs": [
        {
          "output_type": "stream",
          "name": "stdout",
          "text": [
            "27\n"
          ]
        }
      ]
    },
    {
      "cell_type": "code",
      "source": [
        "result = power(2, 4)  # Uses provided exponent of 4"
      ],
      "metadata": {
        "id": "iYJHiLabrjKM"
      },
      "execution_count": null,
      "outputs": []
    },
    {
      "cell_type": "code",
      "source": [
        "print(result)"
      ],
      "metadata": {
        "colab": {
          "base_uri": "https://localhost:8080/"
        },
        "id": "FsXq5Mmorq9C",
        "outputId": "48f670fd-079f-4da0-ae31-f0288ee981dd"
      },
      "execution_count": null,
      "outputs": [
        {
          "output_type": "stream",
          "name": "stdout",
          "text": [
            "16\n"
          ]
        }
      ]
    },
    {
      "cell_type": "markdown",
      "source": [
        "\n",
        "### *args - Non-Keyword Arguments:\n",
        "When you define a function with *args in its parameter list, it allows you to pass a variable number of non-keyword arguments to the function. The *args parameter collects these arguments into a tuple within the function."
      ],
      "metadata": {
        "id": "auJXMBJ9sU4B"
      }
    },
    {
      "cell_type": "code",
      "source": [
        "def fun(*args):\n",
        "    for i in args:\n",
        "        print(i, end=\", \")"
      ],
      "metadata": {
        "id": "Z9zUKGicsbGs"
      },
      "execution_count": null,
      "outputs": []
    },
    {
      "cell_type": "code",
      "source": [
        "fun(1, 5, 6, 3, 4)"
      ],
      "metadata": {
        "colab": {
          "base_uri": "https://localhost:8080/"
        },
        "id": "eKt16E7OsfgF",
        "outputId": "16f612a1-dfaf-470b-de3e-5f78052ee152"
      },
      "execution_count": null,
      "outputs": [
        {
          "output_type": "stream",
          "name": "stdout",
          "text": [
            "1, 5, 6, 3, 4, "
          ]
        }
      ]
    },
    {
      "cell_type": "code",
      "source": [
        "fun(1, 5, 6, 3, 4,25,56,100,23)"
      ],
      "metadata": {
        "colab": {
          "base_uri": "https://localhost:8080/"
        },
        "id": "8pGZ52E0sjWs",
        "outputId": "832c74ac-7cdd-4408-ce46-ed4139fbb963"
      },
      "execution_count": null,
      "outputs": [
        {
          "output_type": "stream",
          "name": "stdout",
          "text": [
            "1, 5, 6, 3, 4, 25, 56, 100, 23, "
          ]
        }
      ]
    },
    {
      "cell_type": "markdown",
      "source": [
        "### **kwargs - Keyword Arguments:\n",
        "\n",
        "When you define a function with **kwargs in its parameter list, it allows you to pass a variable number of keyword arguments (key-value pairs) to the function. The **kwargs parameter collects these arguments into a dictionary within the function"
      ],
      "metadata": {
        "id": "YsjSwkdss5Bm"
      }
    },
    {
      "cell_type": "code",
      "source": [
        "def print_student_info(**kwargs):\n",
        "    for key, value in kwargs.items():\n",
        "        print(f\"{key}: {value}\")\n",
        "\n",
        "# Passing keyword arguments to the function\n",
        "print_student_info(name=\"Alice\", age=20, major=\"Computer Science\", GPA=3.8)"
      ],
      "metadata": {
        "colab": {
          "base_uri": "https://localhost:8080/"
        },
        "id": "59_PI9CFs9gu",
        "outputId": "e0669024-7e00-4b69-c8c8-891efb9704a0"
      },
      "execution_count": null,
      "outputs": [
        {
          "output_type": "stream",
          "name": "stdout",
          "text": [
            "name: Alice\n",
            "age: 20\n",
            "major: Computer Science\n",
            "GPA: 3.8\n"
          ]
        }
      ]
    },
    {
      "cell_type": "code",
      "source": [
        "print_student_info(name=\"Bob\", age=22, major=\"Engineering\", GPA=3.5, status=\"Senior\")"
      ],
      "metadata": {
        "colab": {
          "base_uri": "https://localhost:8080/"
        },
        "id": "pEvfDbbftgeJ",
        "outputId": "307c10b8-b7ae-4fa8-849a-517173a45463"
      },
      "execution_count": null,
      "outputs": [
        {
          "output_type": "stream",
          "name": "stdout",
          "text": [
            "name: Bob\n",
            "age: 22\n",
            "major: Engineering\n",
            "GPA: 3.5\n",
            "status: Senior\n"
          ]
        }
      ]
    },
    {
      "cell_type": "markdown",
      "source": [
        "### Return statement\n",
        "\n",
        "In Python, the return statement is used in a function to specify the value that the function should send back as its result when it's called. This allows you to capture and use the output of the function for further computations or to store the result in a variable."
      ],
      "metadata": {
        "id": "O2LgYOmVt7aY"
      }
    },
    {
      "cell_type": "code",
      "source": [
        "def my_function(parameters):\n",
        "    # code block\n",
        "    return value"
      ],
      "metadata": {
        "id": "01PvYny5uDRp"
      },
      "execution_count": null,
      "outputs": []
    },
    {
      "cell_type": "code",
      "source": [
        "def square(number):\n",
        "    result = number ** 2\n",
        "    return result\n",
        "\n",
        "# Calling the function and capturing the returned value\n",
        "num = 5\n",
        "squared_num = square(num)\n",
        "print(f\"The square of {num} is {squared_num}\")"
      ],
      "metadata": {
        "colab": {
          "base_uri": "https://localhost:8080/"
        },
        "id": "Sk0UoUS-uHYx",
        "outputId": "83389e85-7483-4871-bd4a-80184548c980"
      },
      "execution_count": null,
      "outputs": [
        {
          "output_type": "stream",
          "name": "stdout",
          "text": [
            "The square of 5 is 25\n"
          ]
        }
      ]
    },
    {
      "cell_type": "markdown",
      "source": [
        "In this example, the square function takes a parameter number, calculates its square, and then returns the result. When the function is called with the argument 5, it calculates the square as 25 and returns that value. The returned value is then assigned to the variable squared_num, which is used to print the result.\n",
        "\n",
        "\n",
        "\n",
        "You can also return multiple values from a function by separating them with commas. In such cases, Python will actually return a tuple containing the values."
      ],
      "metadata": {
        "id": "n9TnrI9IuLYp"
      }
    },
    {
      "cell_type": "code",
      "source": [
        "def add_and_subtract(a, b):\n",
        "    addition = a + b\n",
        "    subtraction = a - b\n",
        "    return addition, subtraction\n",
        "\n",
        "result = add_and_subtract(10, 5)\n",
        "print(\"Addition:\", result[0])\n",
        "print(\"Subtraction:\", result[1])\n"
      ],
      "metadata": {
        "colab": {
          "base_uri": "https://localhost:8080/"
        },
        "id": "phnXJENUuXbf",
        "outputId": "1b0d4c98-e72d-41f7-99eb-a680ede5b57d"
      },
      "execution_count": null,
      "outputs": [
        {
          "output_type": "stream",
          "name": "stdout",
          "text": [
            "Addition: 15\n",
            "Subtraction: 5\n"
          ]
        }
      ]
    },
    {
      "cell_type": "markdown",
      "source": [
        "## **For Practice**:\n",
        "\n",
        "Positional Arguments:\n",
        "1.\tWrite a function that takes two numbers as arguments and returns their sum.\n",
        "2.\tWrite a function that takes two strings as arguments and concatenates them.\n",
        "3.\tWrite a function that takes two numbers as arguments and returns the larger number.\n",
        "4.\tWrite a function that takes two strings as arguments and returns the length of the combined string.\n",
        "5.\tWrite a function that takes two numbers as arguments and returns the product of the two numbers.\n",
        "\n",
        "Keyword Arguments:\n",
        "6.\tCreate a function that takes keyword arguments for a person's first name, last name, and age, and returns their full name.\n",
        "7.\tCreate a function that takes keyword arguments for a student's name, age, and school, and prints them out as a formatted string.\n",
        "8.\tCreate a function that takes keyword arguments for a book's title, author, and year, and returns a dictionary.\n",
        "9.\tCreate a function that takes keyword arguments for a song's title, artist, and duration, and returns a formatted string.\n",
        "10.\tCreate a function that takes keyword arguments for a car's make, model, and year, and returns a formatted string.\n",
        "\n",
        "Default Parameters:\n",
        "11.\tDefine a function that takes a name as a parameter (default to \"Guest\") and prints a greeting message.\n",
        "12.\tDefine a function that takes a message as a parameter (default to \"Hello\") and prints it.\n",
        "13.\tDefine a function that takes a message as a parameter (default to \"Hi\") and returns it in uppercase.\n",
        "14.\tDefine a function that takes a name as a parameter (default to \"Anonymous\") and returns a personalized greeting.\n",
        "15.\tDefine a function that takes a message as a parameter (default to \"Greetings\") and returns it in uppercase.\n",
        "\n",
        "*args - Non-Keyword Arguments:\n",
        "16.\tWrite a function that takes multiple numbers as arguments and returns their sum.\n",
        "17.\tWrite a function that takes multiple strings as arguments and concatenates them.\n",
        "18.\tWrite a function that takes multiple numbers as arguments and returns the largest number.\n",
        "19.\tWrite a function that takes multiple strings as arguments and returns the concatenated string in uppercase.\n",
        "20.\tWrite a function that takes multiple strings as arguments and returns the concatenated string in lowercase.\n",
        "\n",
        "**kwargs - Keyword Arguments:\n",
        "21.\tCreate a function that takes keyword arguments for a person's name, age, and location, and prints them with labels.\n",
        "22.\tCreate a function that takes keyword arguments for a student's name, age, and school, and returns a dictionary.\n",
        "23.\tCreate a function that takes keyword arguments for a book's title, author, and year, and returns a dictionary.\n",
        "24.\tCreate a function that takes keyword arguments for a country's name, population, and capital, and returns a dictionary.\n",
        "25.\tCreate a function that takes keyword arguments for a user's username, email, and role, and returns a dictionary.\n",
        "\n",
        "Map Function:\n",
        "26.\tUse the map function to double each element in a list of numbers.\n",
        "27.\tUse the map function to convert a list of Celsius temperatures to Fahrenheit temperatures using a formula.\n",
        "28.\tUse the map function to convert a list of temperatures in Celsius to Fahrenheit.\n",
        "29.\tUse the map function to square the elements of a list of numbers and then find the sum of squared values.\n",
        "30.\tUse the map function to calculate the lengths of strings in a list.\n",
        "\n",
        "Mixed Arguments:\n",
        "31.\tDefine a function that takes a required name, followed by non-keyword arguments for favorite colors, and keyword arguments for age and city.\n",
        "32.\tDefine a function that takes a required name, followed by non-keyword arguments (like hobbies), and keyword arguments (like age and city).\n",
        "33.\tDefine a function that takes a required name, followed by non-keyword arguments (like favorite foods), and keyword arguments (like age and city).\n",
        "34.\tDefine a function that takes a required name, followed by non-keyword arguments (like skills), and keyword arguments (like age and city).\n",
        "35.\tDefine a function that takes a required name, followed by non-keyword arguments (like interests), and keyword arguments (like age and city).\n",
        "\n",
        "Default Parameters and Keyword Arguments:\n",
        "36.\tCreate a function to order a specific item (default to 'coffee') with an optional size.\n",
        "37.\tCreate a function to order a default item ('pizza') with an optional size and toppings.\n",
        "38.\tCreate a function to order food with a default item ('burger') with optional size and toppings.\n",
        "39.\tCreate a function to order a default drink ('coffee') with optional size and flavor.\n",
        "40.\tCreate a function to order a default dessert ('cake') with optional size and flavor.\n",
        "\n",
        "Using *args and **kwargs:\n",
        "41.\tWrite a function that takes a required name, followed by non-keyword arguments (like interests), and keyword arguments (like age and city).\n",
        "42.\tWrite a function that takes a required name, followed by non-keyword arguments (like favorite books), and keyword arguments (like age and city).\n",
        "43.\tWrite a function that takes a required name, followed by non-keyword arguments (like favorite movies), and keyword arguments (like age and city).\n",
        "44.\tWrite a function that takes a required name, followed by non-keyword arguments (like favorite foods), and keyword arguments (like age and city).\n",
        "45.\tWrite a function that takes a required name, followed by non-keyword arguments (like skills), and keyword arguments (like age and city).\n",
        "\n",
        "Function Composition with map:\n",
        "46.\tUse the map function to convert a list of temperatures in Celsius to Fahrenheit.\n",
        "47.\tUse the map function to calculate the cube of each number in a list.\n",
        "48.\tUse the map function to convert a list of strings to uppercase.\n",
        "49.\tUse the map function to calculate the lengths of strings in a list.\n",
        "50.\tUse the map function to convert a list of floating-point numbers to integers.\n",
        "\n"
      ],
      "metadata": {
        "id": "FYdrGF_a4mU1"
      }
    },
    {
      "cell_type": "markdown",
      "source": [
        "## Anonymous functions\n",
        "\n",
        "In Python, anonymous functions are created using the lambda keyword. These are also referred to as lambda functions or lambda expressions. Lambda functions are a way to create small, inline functions without giving them a formal name. They are often used for short, simple operations where defining a full function using def would be unnecessary."
      ],
      "metadata": {
        "id": "FW5seseAv3RN"
      }
    },
    {
      "cell_type": "code",
      "source": [
        "lambda arguments: expression"
      ],
      "metadata": {
        "id": "1Xtq_YANv-IW"
      },
      "execution_count": null,
      "outputs": []
    },
    {
      "cell_type": "markdown",
      "source": [
        "Lambda functions take a set of arguments, followed by a colon, and then an expression. The result of the expression is automatically returned as the output of the lambda function."
      ],
      "metadata": {
        "id": "0y5QUiTFwIV_"
      }
    },
    {
      "cell_type": "code",
      "source": [
        "square = lambda x: x ** 2\n",
        "\n",
        "result = square(5)\n",
        "print(result)\n"
      ],
      "metadata": {
        "colab": {
          "base_uri": "https://localhost:8080/"
        },
        "id": "ZQd9y7dWwDPW",
        "outputId": "0aea4c67-0971-40e1-fc6b-cd218f4b2cbb"
      },
      "execution_count": null,
      "outputs": [
        {
          "output_type": "stream",
          "name": "stdout",
          "text": [
            "25\n"
          ]
        }
      ]
    },
    {
      "cell_type": "code",
      "source": [
        "points = [(2, 5), (1, 9), (10, 3)]\n",
        "points.sort(key=lambda point: point[1])\n",
        "print(points)"
      ],
      "metadata": {
        "colab": {
          "base_uri": "https://localhost:8080/"
        },
        "id": "_1jMOz6iwQbf",
        "outputId": "a7785198-880f-49aa-bc23-1bfa0534d975"
      },
      "execution_count": null,
      "outputs": [
        {
          "output_type": "stream",
          "name": "stdout",
          "text": [
            "[(10, 3), (2, 5), (1, 9)]\n"
          ]
        }
      ]
    },
    {
      "cell_type": "markdown",
      "source": [
        "## **for practice:**\n",
        "\n",
        "1. Question:\n",
        "Write a lambda function that adds two numbers.\n",
        "\n",
        "2. Question:\n",
        "Write a lambda function that multiplies three numbers.\n",
        "\n",
        "3. Question:\n",
        "Write a lambda function that checks if a number is even.\n",
        "\n",
        "4. Question:\n",
        "Write a lambda function that calculates the square of a number.\n",
        "\n",
        "5. Question:\n",
        "Write a lambda function that converts a temperature in Celsius to Fahrenheit.\n",
        "\n",
        "6. Question:\n",
        "Write a lambda function that returns the length of a string.\n",
        "\n",
        "7. Question:\n",
        "Write a lambda function that concatenates two strings.\n",
        "\n",
        "8. Question:\n",
        "Write a lambda function that converts a string to uppercase.\n",
        "\n",
        "9. Question:\n",
        "Write a lambda function that checks if a number is prime.\n",
        "\n",
        "10. Question:\n",
        "Write a lambda function that calculates the average of a list of numbers."
      ],
      "metadata": {
        "id": "3PWuM7ws-fLp"
      }
    },
    {
      "cell_type": "markdown",
      "source": [
        "## Recursive function:\n",
        "\n",
        "A recursive function is a function that calls itself in order to solve a problem. Recursive functions are commonly used in programming when a problem can be broken down into smaller, similar subproblems. Each recursive call works on a smaller instance of the problem until a base case is reached, at which point the recursion stops."
      ],
      "metadata": {
        "id": "2dZ0HM28xBSG"
      }
    },
    {
      "cell_type": "code",
      "source": [
        "def factorial(n):\n",
        "    if n == 0:\n",
        "        return 1\n",
        "    else:\n",
        "        return n * factorial(n - 1)\n",
        "\n",
        "result = factorial(5)\n",
        "print(result)  # Output: 120 (5! = 5 * 4 * 3 * 2 * 1 = 120)"
      ],
      "metadata": {
        "colab": {
          "base_uri": "https://localhost:8080/"
        },
        "id": "-26Ka4PzxFcG",
        "outputId": "a2bb77dd-0c77-4a4d-8281-e65ff9e1e822"
      },
      "execution_count": null,
      "outputs": [
        {
          "output_type": "stream",
          "name": "stdout",
          "text": [
            "120\n"
          ]
        }
      ]
    },
    {
      "cell_type": "code",
      "source": [
        "def sum_up_to(n):\n",
        "    if n == 1:\n",
        "        return 1\n",
        "    else:\n",
        "        return n + sum_up_to(n - 1)\n",
        "\n",
        "result = sum_up_to(5)\n",
        "print(result)  # Output: 15 (1 + 2 + 3 + 4 + 5 = 15)\n"
      ],
      "metadata": {
        "colab": {
          "base_uri": "https://localhost:8080/"
        },
        "id": "IqC9FjmOyjqN",
        "outputId": "6cd41936-b480-4172-e6b9-a86ac2d3b61b"
      },
      "execution_count": null,
      "outputs": [
        {
          "output_type": "stream",
          "name": "stdout",
          "text": [
            "15\n"
          ]
        }
      ]
    },
    {
      "cell_type": "markdown",
      "source": [
        "## **For Practice:**\n",
        "\n",
        "1.\tCountdown: Write a recursive function that takes a positive integer n as input and prints the numbers from n down to 1.\n",
        "2.\tSum of Digits: Create a recursive function that calculates the sum of the digits of a positive integer.\n",
        "3.\tFactorial Digits Sum: Implement a recursive function to find the sum of the digits of the factorial of a given positive integer n.\n",
        "4.\tExponential Series: Write a recursive function to compute the sum of the first n terms of the series 1^1 + 2^2 + 3^3 + ... + n^n.\n",
        "5.\tString Length: Create a recursive function to find the length of a given string.\n",
        "6.\tPrint String Characters: Write a recursive function that takes a string as input and prints each character on a new line.\n",
        "7.\tCheck for Even Numbers: Implement a recursive function that checks if a given positive integer is even.\n",
        "8.\tCount Occurrences: Write a recursive function to count the number of occurrences of a specific element in a list.\n",
        "9.\tCalculate Exponentiation: Create a recursive function to calculate base raised to the power of exponent.\n",
        "10.\tPrint Pattern: Write a recursive function to print a pattern of n lines where the i-th line contains i stars.\n"
      ],
      "metadata": {
        "id": "NF1Y5Mv19GZ9"
      }
    },
    {
      "cell_type": "markdown",
      "source": [
        "## Define functions within other functions\n",
        "\n",
        "In Python, you can define functions within other functions. These are known as nested functions or inner functions. The concept of nested functions allows you to create more modular and organized code, where you can encapsulate certain functionality within a parent function."
      ],
      "metadata": {
        "id": "vf2KoJFSzsO9"
      }
    },
    {
      "cell_type": "code",
      "source": [
        "def outer_function(x):\n",
        "    def inner_function(y):\n",
        "        return y * 2\n",
        "    return inner_function(x)\n",
        "\n",
        "result = outer_function(5)\n",
        "print(result)\n"
      ],
      "metadata": {
        "colab": {
          "base_uri": "https://localhost:8080/"
        },
        "id": "2HFJNEPNz79N",
        "outputId": "787e5737-130c-4b09-b879-accefa5cfc76"
      },
      "execution_count": null,
      "outputs": [
        {
          "output_type": "stream",
          "name": "stdout",
          "text": [
            "10\n"
          ]
        }
      ]
    },
    {
      "cell_type": "markdown",
      "source": [
        "In this example, inner_function is defined inside outer_function. It takes a parameter y and simply returns y * 2. The outer_function then calls inner_function with the value of its own parameter x."
      ],
      "metadata": {
        "id": "Fzc5zbL60KNN"
      }
    },
    {
      "cell_type": "code",
      "source": [
        "def counter():\n",
        "    count = 0  # This variable is local to the outer function\n",
        "\n",
        "    def increment():\n",
        "        nonlocal count  # Access the count variable from the outer function\n",
        "        count += 1\n",
        "        return count\n",
        "\n",
        "    return increment\n",
        "\n",
        "counter_instance = counter()\n",
        "print(counter_instance())  # Output: 1\n",
        "print(counter_instance())  # Output: 2\n",
        "print(counter_instance())"
      ],
      "metadata": {
        "colab": {
          "base_uri": "https://localhost:8080/"
        },
        "id": "6EIf9dlH0Lfl",
        "outputId": "f437f5fe-7491-4ff5-8ad4-55dee7bdad08"
      },
      "execution_count": null,
      "outputs": [
        {
          "output_type": "stream",
          "name": "stdout",
          "text": [
            "1\n",
            "2\n",
            "3\n"
          ]
        }
      ]
    },
    {
      "cell_type": "code",
      "source": [
        "def abc():\n",
        "    b=0\n",
        "    def xyz():\n",
        "        nonlocal b\n",
        "        b=5\n",
        "        print(b)\n",
        "    xyz()\n",
        "    print(b)\n",
        "abc()"
      ],
      "metadata": {
        "colab": {
          "base_uri": "https://localhost:8080/"
        },
        "id": "9tNx5QnOGiHN",
        "outputId": "22adbc92-1562-4f18-ea2f-467204e65208"
      },
      "execution_count": null,
      "outputs": [
        {
          "output_type": "stream",
          "name": "stdout",
          "text": [
            "5\n",
            "5\n"
          ]
        }
      ]
    },
    {
      "cell_type": "markdown",
      "source": [
        "In this example, the inner function increment increments the count variable from the outer function counter. The counter function returns the increment function, effectively creating a closure. The returned function counter_instance maintains its own state of count between calls.\n",
        "\n",
        "Nested functions are particularly useful for creating helper functions that are only relevant within a specific context, reducing the need for global variables and keeping the scope of the functions controlled."
      ],
      "metadata": {
        "id": "H6aurHSr0jad"
      }
    },
    {
      "cell_type": "markdown",
      "source": [
        "## **For Practice:**\n",
        "\n",
        "1. Question:\n",
        "Write a function outer that takes a number as an argument and defines an inner function inner that calculates the square of that number. The outer function should call the inner function and return the result.\n",
        "\n",
        "2. Question:\n",
        "Write a function power that takes two arguments, base and exponent, and defines an inner function calculate that calculates base raised to the power of exponent. The outer function should call the inner function and return the result\n",
        "\n",
        "3. Question:\n",
        "Write a function calculator that takes two numbers and an operator as arguments. Define inner functions add, subtract, multiply, and divide that perform the respective operations. The outer function should call the appropriate inner function based on the operator and return the result.\n",
        "\n",
        "4. Question:\n",
        "Write a function counter that defines an inner function increment to increment a counter. The outer function should return the inner function. Call the outer function to get the inner function and use it to increment the counter multiple times\n",
        "\n",
        "5. Question:\n",
        "Write a function power_sequence that takes a number and an exponent as arguments. Define an inner function calculate that calculates the square of the number raised to the power of the exponent, and another inner function increment that increments the exponent. The outer function should call the calculate function and return its result, then call the increment function and return its result"
      ],
      "metadata": {
        "id": "JQhWjEEbAkXI"
      }
    },
    {
      "cell_type": "markdown",
      "source": [
        "## Scope:\n",
        "\n",
        "Scope refers to the region of code where a variable or function is visible and accessible.\n",
        "\n",
        " In Python, there are different levels of scope:\n",
        "\n",
        "**Local Scope**: Variables defined inside a function are said to have local scope. They are only accessible within that function.\n",
        "\n",
        "**Enclosing Scope**: If a function is nested within another function, it can access variables from the containing (enclosing) function's scope.\n",
        "\n",
        "**Global Scope**: Variables defined outside of any function are said to have global scope. They can be accessed from anywhere in the code.\n",
        "\n",
        "**Built-in Scope**: This is the scope that contains all the Python built-in functions and objects."
      ],
      "metadata": {
        "id": "c3TelWiU1mHl"
      }
    },
    {
      "cell_type": "code",
      "source": [
        "a=10#global variable\n",
        "def display():\n",
        "    b=10 # local variable of display function\n",
        "    def show():\n",
        "        c=15 # local variable of show function\n",
        "        print(\"a+b=\",a+b)\n",
        "        print(\"a+b+c=\",a+b+c)\n",
        "    show()\n",
        "    print(\"a+b=\",a+b)\n",
        "    #print(\"c=\",c)\n",
        "display()\n",
        "print(\"a=\",a)\n",
        "#print(\"b=\",b)"
      ],
      "metadata": {
        "colab": {
          "base_uri": "https://localhost:8080/"
        },
        "id": "2XFaZc3vAk7f",
        "outputId": "934072f3-54f5-471f-a381-68938ffcaed7"
      },
      "execution_count": null,
      "outputs": [
        {
          "output_type": "stream",
          "name": "stdout",
          "text": [
            "a+b= 20\n",
            "a+b+c= 35\n",
            "a+b= 20\n",
            "a= 10\n"
          ]
        }
      ]
    },
    {
      "cell_type": "code",
      "source": [
        "global_variable = 10\n",
        "\n",
        "def outer_function():\n",
        "    outer_variable = 20\n",
        "\n",
        "    def inner_function():\n",
        "        inner_variable = 30\n",
        "        print(\"Inner:\", inner_variable)\n",
        "        print(\"Outer:\", outer_variable)\n",
        "        print(\"Global:\", global_variable)\n",
        "\n",
        "    inner_function()\n",
        "    print(\"Outer after inner:\", outer_variable)\n",
        "\n",
        "outer_function()\n",
        "print(\"Global:\", global_variable)"
      ],
      "metadata": {
        "colab": {
          "base_uri": "https://localhost:8080/"
        },
        "id": "YmlHhEVi0kqN",
        "outputId": "5525b031-f5d6-4dc0-cf5a-5267938b2897"
      },
      "execution_count": null,
      "outputs": [
        {
          "output_type": "stream",
          "name": "stdout",
          "text": [
            "Inner: 30\n",
            "Outer: 20\n",
            "Global: 10\n",
            "Outer after inner: 20\n",
            "Global: 10\n"
          ]
        }
      ]
    },
    {
      "cell_type": "markdown",
      "source": [
        "# Functions practice questions and answers:"
      ],
      "metadata": {
        "id": "Lsx5Ou4F5Pgr"
      }
    },
    {
      "cell_type": "markdown",
      "source": [
        "## Positional Arguments:"
      ],
      "metadata": {
        "id": "HWnNkvyO5dmb"
      }
    },
    {
      "cell_type": "code",
      "source": [
        "def add(a, b):\n",
        "    return a + b\n"
      ],
      "metadata": {
        "id": "criQPVhO5a2j"
      },
      "execution_count": null,
      "outputs": []
    },
    {
      "cell_type": "code",
      "source": [
        "def concatenate_strings(str1, str2):\n",
        "    return str1 + str2\n"
      ],
      "metadata": {
        "id": "bEX12-735iGi"
      },
      "execution_count": null,
      "outputs": []
    },
    {
      "cell_type": "code",
      "source": [
        "def max_number(a, b):\n",
        "    return max(a, b)\n"
      ],
      "metadata": {
        "id": "uYfXpqDn5iQr"
      },
      "execution_count": null,
      "outputs": []
    },
    {
      "cell_type": "code",
      "source": [
        "def combined_length(str1, str2):\n",
        "    return len(str1) + len(str2)\n"
      ],
      "metadata": {
        "id": "8c8k_vh_5iTr"
      },
      "execution_count": null,
      "outputs": []
    },
    {
      "cell_type": "code",
      "source": [
        "def multiply(a, b):\n",
        "    return a * b\n"
      ],
      "metadata": {
        "id": "hiFRrEXr5iWu"
      },
      "execution_count": null,
      "outputs": []
    },
    {
      "cell_type": "markdown",
      "source": [
        "## Keyword Arguments:"
      ],
      "metadata": {
        "id": "Ji_y-faX5zsK"
      }
    },
    {
      "cell_type": "code",
      "source": [
        "def full_name(first, last):\n",
        "    return f\"{first} {last}\"\n"
      ],
      "metadata": {
        "id": "In31su1p5iZW"
      },
      "execution_count": null,
      "outputs": []
    },
    {
      "cell_type": "code",
      "source": [
        "def student_details(**kwargs):\n",
        "    return f\"Name: {kwargs['name']}, Age: {kwargs['age']}, School: {kwargs['school']}\"\n"
      ],
      "metadata": {
        "id": "ljeGCanW5ibe"
      },
      "execution_count": null,
      "outputs": []
    },
    {
      "cell_type": "code",
      "source": [
        "def book_info(**kwargs):\n",
        "    return f\"Title: {kwargs['title']}, Author: {kwargs['author']}, Year: {kwargs['year']}\"\n"
      ],
      "metadata": {
        "id": "dcQZhYHY5id7"
      },
      "execution_count": null,
      "outputs": []
    },
    {
      "cell_type": "code",
      "source": [
        "def song_details(**kwargs):\n",
        "    return f\"Title: {kwargs['title']}, Artist: {kwargs['artist']}, Duration: {kwargs['duration']}\"\n"
      ],
      "metadata": {
        "id": "1WhBmHcy5igE"
      },
      "execution_count": null,
      "outputs": []
    },
    {
      "cell_type": "code",
      "source": [
        "def car_info(**kwargs):\n",
        "    return f\"Make: {kwargs['make']}, Model: {kwargs['model']}, Year: {kwargs['year']}\"\n"
      ],
      "metadata": {
        "id": "dFXpi60658nz"
      },
      "execution_count": null,
      "outputs": []
    },
    {
      "cell_type": "markdown",
      "source": [
        "##Default Parameters:"
      ],
      "metadata": {
        "id": "8nBlvVGY6CDi"
      }
    },
    {
      "cell_type": "code",
      "source": [
        "def greet(name=\"Guest\"):\n",
        "    print(f\"Hello, {name}!\")\n"
      ],
      "metadata": {
        "id": "4pgPnmeK58vS"
      },
      "execution_count": null,
      "outputs": []
    },
    {
      "cell_type": "code",
      "source": [
        "def print_message(message=\"Hello\"):\n",
        "    print(message)\n"
      ],
      "metadata": {
        "id": "BhSCbo8c58x6"
      },
      "execution_count": null,
      "outputs": []
    },
    {
      "cell_type": "code",
      "source": [
        "def uppercase_message(message=\"Hi\"):\n",
        "    return message.upper()\n"
      ],
      "metadata": {
        "id": "gaDcgcD6580t"
      },
      "execution_count": null,
      "outputs": []
    },
    {
      "cell_type": "code",
      "source": [
        "def personalize_greeting(name=\"Anonymous\"):\n",
        "    return f\"Hello, {name}!\"\n"
      ],
      "metadata": {
        "id": "H9KFO0V36MF6"
      },
      "execution_count": null,
      "outputs": []
    },
    {
      "cell_type": "code",
      "source": [
        "def add_smiley(message=\"Greetings\"):\n",
        "    return f\"{message} :)\"\n"
      ],
      "metadata": {
        "id": "oUYQCrik6MLK"
      },
      "execution_count": null,
      "outputs": []
    },
    {
      "cell_type": "markdown",
      "source": [
        "##*args - Non-Keyword Arguments:\n"
      ],
      "metadata": {
        "id": "hnKMhbpM6Rsq"
      }
    },
    {
      "cell_type": "code",
      "source": [
        "def sum_numbers(*args):\n",
        "    return sum(args)\n"
      ],
      "metadata": {
        "id": "gpWsfnT-6YTr"
      },
      "execution_count": null,
      "outputs": []
    },
    {
      "cell_type": "code",
      "source": [
        "def concatenate_strings(*args):\n",
        "    return ''.join(args)\n"
      ],
      "metadata": {
        "id": "vVe4LMx76Yb6"
      },
      "execution_count": null,
      "outputs": []
    },
    {
      "cell_type": "code",
      "source": [
        "def max_number(*args):\n",
        "    return max(args)\n"
      ],
      "metadata": {
        "id": "R4qhe8Mf6YkS"
      },
      "execution_count": null,
      "outputs": []
    },
    {
      "cell_type": "code",
      "source": [
        "def uppercase_concatenate(*args):\n",
        "    return ''.join(args).upper()\n"
      ],
      "metadata": {
        "id": "wu7WJNZS6YqC"
      },
      "execution_count": null,
      "outputs": []
    },
    {
      "cell_type": "code",
      "source": [
        "def lowercase_concatenate(*args):\n",
        "    return ''.join(args).lower()\n"
      ],
      "metadata": {
        "id": "395jUWzv6YvC"
      },
      "execution_count": null,
      "outputs": []
    },
    {
      "cell_type": "markdown",
      "source": [
        "##**kwargs - Keyword Arguments"
      ],
      "metadata": {
        "id": "eF89SDRn6i3K"
      }
    },
    {
      "cell_type": "code",
      "source": [
        "def display_info(**kwargs):\n",
        "    for key, value in kwargs.items():\n",
        "        print(f\"{key}: {value}\")\n"
      ],
      "metadata": {
        "id": "EZDHJve-6m-y"
      },
      "execution_count": null,
      "outputs": []
    },
    {
      "cell_type": "code",
      "source": [
        "def student_info(**kwargs):\n",
        "    return f\"Name: {kwargs['name']}, Age: {kwargs['age']}, School: {kwargs['school']}\"\n"
      ],
      "metadata": {
        "id": "AD4hUQW56nHq"
      },
      "execution_count": null,
      "outputs": []
    },
    {
      "cell_type": "code",
      "source": [
        "def book_details(**kwargs):\n",
        "    return f\"Title: {kwargs['title']}, Author: {kwargs['author']}, Year: {kwargs['year']}\"\n"
      ],
      "metadata": {
        "id": "6qZJnSlj6nKy"
      },
      "execution_count": null,
      "outputs": []
    },
    {
      "cell_type": "code",
      "source": [
        "def country_info(**kwargs):\n",
        "    return kwargs\n"
      ],
      "metadata": {
        "id": "TDtC5urj6nQD"
      },
      "execution_count": null,
      "outputs": []
    },
    {
      "cell_type": "code",
      "source": [
        "def user_info(**kwargs):\n",
        "    return kwargs\n"
      ],
      "metadata": {
        "id": "46l3t_i96nUE"
      },
      "execution_count": null,
      "outputs": []
    },
    {
      "cell_type": "markdown",
      "source": [
        "##Map Function:"
      ],
      "metadata": {
        "id": "ABcvADDm6wXj"
      }
    },
    {
      "cell_type": "code",
      "source": [
        "numbers = [1, 2, 3, 4, 5]\n",
        "doubled = list(map(lambda x: x * 2, numbers))\n"
      ],
      "metadata": {
        "id": "COD8H5lv6zN6"
      },
      "execution_count": null,
      "outputs": []
    },
    {
      "cell_type": "code",
      "source": [
        "celsius_temps = [20, 25, 30, 35]\n",
        "fahrenheit_temps = list(map(lambda c: c * 9/5 + 32, celsius_temps))\n"
      ],
      "metadata": {
        "id": "HhvF_Hxj6zV6"
      },
      "execution_count": null,
      "outputs": []
    },
    {
      "cell_type": "code",
      "source": [
        "celsius_temps = [20, 25, 30, 35]\n",
        "fahrenheit_temps = list(map(lambda c: c * 9/5 + 32, celsius_temps))\n"
      ],
      "metadata": {
        "id": "TOY84Gfy8IHK"
      },
      "execution_count": null,
      "outputs": []
    },
    {
      "cell_type": "code",
      "source": [
        "numbers = [1, 2, 3, 4, 5]\n",
        "squared_sum = sum(map(lambda x: x ** 2, numbers))\n",
        "\n"
      ],
      "metadata": {
        "id": "4yBf77r96zbr"
      },
      "execution_count": null,
      "outputs": []
    },
    {
      "cell_type": "code",
      "source": [
        "strings = [\"apple\", \"banana\", \"cherry\"]\n",
        "lengths = list(map(len, strings))\n"
      ],
      "metadata": {
        "id": "QUXCcj7x6zka"
      },
      "execution_count": null,
      "outputs": []
    },
    {
      "cell_type": "markdown",
      "source": [
        "##Mixed Arguments:"
      ],
      "metadata": {
        "id": "LgPuUVAW7A8O"
      }
    },
    {
      "cell_type": "code",
      "source": [
        "def display_hobbies(name, *hobbies, age=None, city=None):\n",
        "    print(f\"Name: {name}\")\n",
        "    print(\"Hobbies:\", ', '.join(hobbies))\n",
        "    if age:\n",
        "        print(\"Age:\", age)\n",
        "    if city:\n",
        "        print(\"City:\", city)\n"
      ],
      "metadata": {
        "id": "Dbt1i1of6zwz"
      },
      "execution_count": null,
      "outputs": []
    },
    {
      "cell_type": "code",
      "source": [
        "def display_data(name, *hobbies, age=None, city=None):\n",
        "    print(f\"Name: {name}\")\n",
        "    print(\"Hobbies:\", ', '.join(hobbies))\n",
        "    if age:\n",
        "        print(\"Age:\", age)\n",
        "    if city:\n",
        "        print(\"City:\", city)\n"
      ],
      "metadata": {
        "id": "UDHh-03G7EXW"
      },
      "execution_count": null,
      "outputs": []
    },
    {
      "cell_type": "code",
      "source": [
        "def display_personal(name, *foods, age=None, city=None):\n",
        "    print(f\"Name: {name}\")\n",
        "    print(\"Favorite foods:\", ', '.join(foods))\n",
        "    if age:\n",
        "        print(\"Age:\", age)\n",
        "    if city:\n",
        "        print(\"City:\", city)\n"
      ],
      "metadata": {
        "id": "0z-GTmBg7Ean"
      },
      "execution_count": null,
      "outputs": []
    },
    {
      "cell_type": "code",
      "source": [
        "def display_profile(name, *skills, age=None, city=None):\n",
        "    print(f\"Name: {name}\")\n",
        "    print(\"Skills:\", ', '.join(skills))\n",
        "    if age:\n",
        "        print(\"Age:\", age)\n",
        "    if city:\n",
        "        print(\"City:\", city)\n"
      ],
      "metadata": {
        "id": "bsBk5vyM7EdW"
      },
      "execution_count": null,
      "outputs": []
    },
    {
      "cell_type": "code",
      "source": [
        "def display_info(name, *interests, age=None, city=None):\n",
        "    print(f\"Name: {name}\")\n",
        "    print(\"Interests:\", ', '.join(interests))\n",
        "    if age:\n",
        "        print(\"Age:\", age)\n",
        "    if city:\n",
        "        print(\"City:\", city)\n"
      ],
      "metadata": {
        "id": "GK6xcn-C7Ef-"
      },
      "execution_count": null,
      "outputs": []
    },
    {
      "cell_type": "markdown",
      "source": [
        "##Default Parameters and Keyword Arguments:"
      ],
      "metadata": {
        "id": "o1Y6NzKk7RiS"
      }
    },
    {
      "cell_type": "code",
      "source": [
        "def order(item=\"coffee\", size=None):\n",
        "    if size:\n",
        "        return f\"Ordered a {size} {item}\"\n",
        "    else:\n",
        "        return f\"Ordered a {item}\"\n"
      ],
      "metadata": {
        "id": "Gdu4thJl7Eix"
      },
      "execution_count": null,
      "outputs": []
    },
    {
      "cell_type": "code",
      "source": [
        "def order(item=\"pizza\", size=None, *toppings):\n",
        "    if size:\n",
        "        return f\"Ordered a {size} {item} with {', '.join(toppings)}\"\n",
        "    else:\n",
        "        return f\"Ordered a {item} with {', '.join(toppings)}\"\n"
      ],
      "metadata": {
        "id": "a_O7CTEw7T07"
      },
      "execution_count": null,
      "outputs": []
    },
    {
      "cell_type": "code",
      "source": [
        "def order_food(item=\"burger\", size=None, *toppings):\n",
        "    if size:\n",
        "        return f\"Ordered a {size} {item} with {', '.join(toppings)}\"\n",
        "    else:\n",
        "        return f\"Ordered a {item} with {', '.join(toppings)}\"\n"
      ],
      "metadata": {
        "id": "lOO-8Jdt7T36"
      },
      "execution_count": null,
      "outputs": []
    },
    {
      "cell_type": "code",
      "source": [
        "def order_drink(item=\"coffee\", size=None, flavor=None):\n",
        "    if size and flavor:\n",
        "        return f\"Ordered a {size} {flavor} {item}\"\n",
        "    elif size:\n",
        "        return f\"Ordered a {size} {item}\"\n",
        "    else:\n",
        "        return f\"Ordered a {item}\"\n"
      ],
      "metadata": {
        "id": "qtPC2Pcg7T6t"
      },
      "execution_count": null,
      "outputs": []
    },
    {
      "cell_type": "code",
      "source": [
        "def order_dessert(item=\"cake\", size=None, flavor=None):\n",
        "    if size and flavor:\n",
        "        return f\"Ordered a {size} {flavor} {item}\"\n",
        "    elif size:\n",
        "        return f\"Ordered a {size} {item}\"\n",
        "    else:\n",
        "        return f\"Ordered a {item}\"\n"
      ],
      "metadata": {
        "id": "wzVXv7we7T82"
      },
      "execution_count": null,
      "outputs": []
    },
    {
      "cell_type": "markdown",
      "source": [
        "##Using *args and **kwargs:"
      ],
      "metadata": {
        "id": "7z2RZ2O57h8i"
      }
    },
    {
      "cell_type": "code",
      "source": [
        "def print_personal_data(name, *hobbies, age=None, city=None):\n",
        "    print(\"Name:\", name)\n",
        "    print(\"Hobbies:\", ', '.join(hobbies))\n",
        "    if age:\n",
        "        print(\"Age:\", age)\n",
        "    if city:\n",
        "        print(\"City:\", city)\n"
      ],
      "metadata": {
        "id": "rTG9q-2w7T_Q"
      },
      "execution_count": null,
      "outputs": []
    },
    {
      "cell_type": "code",
      "source": [
        "def print_personal_info(name, *books, age=None, city=None):\n",
        "    print(\"Name:\", name)\n",
        "    print(\"Favorite books:\", ', '.join(books))\n",
        "    if age:\n",
        "        print(\"Age:\", age)\n",
        "    if city:\n",
        "        print(\"City:\", city)\n"
      ],
      "metadata": {
        "id": "P6bKpapc7l4y"
      },
      "execution_count": null,
      "outputs": []
    },
    {
      "cell_type": "code",
      "source": [
        "def print_personal(name, *movies, age=None, city=None):\n",
        "    print(\"Name:\", name)\n",
        "    print(\"Favorite movies:\", ', '.join(movies))\n",
        "    if age:\n",
        "        print(\"Age:\", age)\n",
        "    if city:\n",
        "        print(\"City:\", city)\n"
      ],
      "metadata": {
        "id": "9c6liMIg7l-i"
      },
      "execution_count": null,
      "outputs": []
    },
    {
      "cell_type": "code",
      "source": [
        "def print_personal(name, *foods, age=None, city=None):\n",
        "    print(\"Name:\", name)\n",
        "    print(\"Favorite foods:\", ', '.join(foods))\n",
        "    if age:\n",
        "        print(\"Age:\", age)\n",
        "    if city:\n",
        "        print(\"City:\", city)\n"
      ],
      "metadata": {
        "id": "Ze7dJ_QE7mBh"
      },
      "execution_count": null,
      "outputs": []
    },
    {
      "cell_type": "code",
      "source": [
        "def print_personal(name, *skills, age=None, city=None):\n",
        "    print(\"Name:\", name)\n",
        "    print(\"Skills:\", ', '.join(skills))\n",
        "    if age:\n",
        "        print(\"Age:\", age)\n",
        "    if city:\n",
        "        print(\"City:\", city)\n"
      ],
      "metadata": {
        "id": "O7T3tWjw7mEV"
      },
      "execution_count": null,
      "outputs": []
    },
    {
      "cell_type": "markdown",
      "source": [
        "##Function Composition with map:"
      ],
      "metadata": {
        "id": "hnMdKnHr7x6y"
      }
    },
    {
      "cell_type": "code",
      "source": [
        "celsius_temps = [20, 25, 30, 35]\n",
        "fahrenheit_temps = list(map(lambda c: c * 9/5 + 32, celsius_temps))\n"
      ],
      "metadata": {
        "id": "x7JJUnR97mHL"
      },
      "execution_count": null,
      "outputs": []
    },
    {
      "cell_type": "code",
      "source": [
        "numbers = [2, 3, 4, 5, 6]\n",
        "cubes = list(map(lambda x: x ** 3, numbers))\n"
      ],
      "metadata": {
        "id": "U2n4fR_r73T6"
      },
      "execution_count": null,
      "outputs": []
    },
    {
      "cell_type": "code",
      "source": [
        "strings = [\"apple\", \"banana\", \"cherry\"]\n",
        "uppercase_strings = list(map(lambda s: s.upper(), strings))\n"
      ],
      "metadata": {
        "id": "rbsqN8Hl73a9"
      },
      "execution_count": null,
      "outputs": []
    },
    {
      "cell_type": "code",
      "source": [
        "strings = [\"apple\", \"banana\", \"cherry\"]\n",
        "lengths = list(map(len, strings))\n"
      ],
      "metadata": {
        "id": "aOBGbmf673hS"
      },
      "execution_count": null,
      "outputs": []
    },
    {
      "cell_type": "code",
      "source": [
        "numbers = [3.2, 4.5, 1.7, 9.8]\n",
        "integers = list(map(int, numbers))\n"
      ],
      "metadata": {
        "id": "COj9hRAg73oy"
      },
      "execution_count": null,
      "outputs": []
    },
    {
      "cell_type": "markdown",
      "source": [
        "## Recursive function practical question answers:"
      ],
      "metadata": {
        "id": "RPucyEkH9SDp"
      }
    },
    {
      "cell_type": "code",
      "source": [
        "def countdown(n):\n",
        "    if n <= 0:\n",
        "        return\n",
        "    print(n)\n",
        "    countdown(n - 1)\n",
        "\n",
        "countdown(5)\n"
      ],
      "metadata": {
        "colab": {
          "base_uri": "https://localhost:8080/"
        },
        "id": "RHh3eqM59YBD",
        "outputId": "0638bdd0-137c-4485-8154-e399f30b27b2"
      },
      "execution_count": null,
      "outputs": [
        {
          "output_type": "stream",
          "name": "stdout",
          "text": [
            "5\n",
            "4\n",
            "3\n",
            "2\n",
            "1\n"
          ]
        }
      ]
    },
    {
      "cell_type": "code",
      "source": [
        "def sum_of_digits(n):\n",
        "    if n == 0:\n",
        "        return 0\n",
        "    return n % 10 + sum_of_digits(n // 10)\n",
        "\n",
        "result = sum_of_digits(12345)\n",
        "print(result)\n"
      ],
      "metadata": {
        "colab": {
          "base_uri": "https://localhost:8080/"
        },
        "id": "q57YBWKm9YZq",
        "outputId": "a7a345de-393e-4069-c763-61e3a8e6c9b3"
      },
      "execution_count": null,
      "outputs": [
        {
          "output_type": "stream",
          "name": "stdout",
          "text": [
            "15\n"
          ]
        }
      ]
    },
    {
      "cell_type": "code",
      "source": [
        "def factorial(n):\n",
        "    if n == 0:\n",
        "        return 1\n",
        "    return n * factorial(n - 1)\n",
        "\n",
        "def sum_of_factorial_digits(n):\n",
        "    fact = factorial(n)\n",
        "    return sum_of_digits(fact)\n",
        "\n",
        "result = sum_of_factorial_digits(5)\n",
        "print(result)\n"
      ],
      "metadata": {
        "colab": {
          "base_uri": "https://localhost:8080/"
        },
        "id": "i2UJa3iI9Ydp",
        "outputId": "ee7f4841-28a7-4a78-aa79-db5576537b25"
      },
      "execution_count": null,
      "outputs": [
        {
          "output_type": "stream",
          "name": "stdout",
          "text": [
            "3\n"
          ]
        }
      ]
    },
    {
      "cell_type": "code",
      "source": [
        "def exponential_series(n):\n",
        "    if n == 0:\n",
        "        return 0\n",
        "    return n ** n + exponential_series(n - 1)\n",
        "\n",
        "result = exponential_series(3)\n",
        "print(result)\n"
      ],
      "metadata": {
        "colab": {
          "base_uri": "https://localhost:8080/"
        },
        "id": "-75N7oKg9YiV",
        "outputId": "48a24082-b966-41c3-a8b4-7ec7d264cd52"
      },
      "execution_count": null,
      "outputs": [
        {
          "output_type": "stream",
          "name": "stdout",
          "text": [
            "32\n"
          ]
        }
      ]
    },
    {
      "cell_type": "code",
      "source": [
        "def string_length(s):\n",
        "    if s == \"\":\n",
        "        return 0\n",
        "    return 1 + string_length(s[1:])\n",
        "\n",
        "length = string_length(\"hello\")\n",
        "print(length)\n"
      ],
      "metadata": {
        "colab": {
          "base_uri": "https://localhost:8080/"
        },
        "id": "CKz3_5Le9hpZ",
        "outputId": "bce79454-b0c9-43f2-8ca5-2fce62bd063e"
      },
      "execution_count": null,
      "outputs": [
        {
          "output_type": "stream",
          "name": "stdout",
          "text": [
            "5\n"
          ]
        }
      ]
    },
    {
      "cell_type": "code",
      "source": [
        "def print_characters(s):\n",
        "    if s == \"\":\n",
        "        return\n",
        "    print(s[0])\n",
        "    print_characters(s[1:])\n",
        "\n",
        "print_characters(\"hello\")\n"
      ],
      "metadata": {
        "colab": {
          "base_uri": "https://localhost:8080/"
        },
        "id": "ic0-YUFa9h26",
        "outputId": "dc63a472-6e40-4629-e98e-b7606c58fa8c"
      },
      "execution_count": null,
      "outputs": [
        {
          "output_type": "stream",
          "name": "stdout",
          "text": [
            "h\n",
            "e\n",
            "l\n",
            "l\n",
            "o\n"
          ]
        }
      ]
    },
    {
      "cell_type": "code",
      "source": [
        "def is_even(n):\n",
        "    if n == 0:\n",
        "        return True\n",
        "    return is_odd(n - 1)\n",
        "\n",
        "def is_odd(n):\n",
        "    if n == 0:\n",
        "        return False\n",
        "    return is_even(n - 1)\n",
        "\n",
        "print(is_even(4))\n"
      ],
      "metadata": {
        "colab": {
          "base_uri": "https://localhost:8080/"
        },
        "id": "6XC0jkdK9h-R",
        "outputId": "0c34cb43-0ade-4077-be1d-ac21188bd328"
      },
      "execution_count": null,
      "outputs": [
        {
          "output_type": "stream",
          "name": "stdout",
          "text": [
            "True\n"
          ]
        }
      ]
    },
    {
      "cell_type": "code",
      "source": [
        "def count_occurrences(arr, target):\n",
        "    if not arr:\n",
        "        return 0\n",
        "    return (arr[0] == target) + count_occurrences(arr[1:], target)\n",
        "\n",
        "my_list = [1, 2, 2, 3, 2, 4, 2]\n",
        "count = count_occurrences(my_list, 2)\n",
        "print(count)\n"
      ],
      "metadata": {
        "colab": {
          "base_uri": "https://localhost:8080/"
        },
        "id": "KdonMNhj9p_R",
        "outputId": "2e9bcf8b-dd2a-462d-ef70-d55a52fef722"
      },
      "execution_count": null,
      "outputs": [
        {
          "output_type": "stream",
          "name": "stdout",
          "text": [
            "4\n"
          ]
        }
      ]
    },
    {
      "cell_type": "code",
      "source": [
        "def power(base, exponent):\n",
        "    if exponent == 0:\n",
        "        return 1\n",
        "    return base * power(base, exponent - 1)\n",
        "\n",
        "result = power(2, 3)\n",
        "print(result)\n"
      ],
      "metadata": {
        "colab": {
          "base_uri": "https://localhost:8080/"
        },
        "id": "JEl5EfGi9qHJ",
        "outputId": "779e7113-5ef7-4725-d759-005801aa9f44"
      },
      "execution_count": null,
      "outputs": [
        {
          "output_type": "stream",
          "name": "stdout",
          "text": [
            "8\n"
          ]
        }
      ]
    },
    {
      "cell_type": "code",
      "source": [
        "def print_pattern(n):\n",
        "    if n <= 0:\n",
        "        return\n",
        "    print(\"*\" * n)\n",
        "    print_pattern(n - 1)\n",
        "\n",
        "print_pattern(5)\n"
      ],
      "metadata": {
        "colab": {
          "base_uri": "https://localhost:8080/"
        },
        "id": "8iiv0CAp9uE0",
        "outputId": "2bf27918-3d9d-4b71-a0cc-0ab55e19f5e6"
      },
      "execution_count": null,
      "outputs": [
        {
          "output_type": "stream",
          "name": "stdout",
          "text": [
            "*****\n",
            "****\n",
            "***\n",
            "**\n",
            "*\n"
          ]
        }
      ]
    },
    {
      "cell_type": "markdown",
      "source": [
        "## Anonymous functions question and answers:"
      ],
      "metadata": {
        "id": "KAnZavh5_I-Q"
      }
    },
    {
      "cell_type": "code",
      "source": [
        "add = lambda x, y: x + y\n"
      ],
      "metadata": {
        "id": "1_B4DJ0M_Po4"
      },
      "execution_count": null,
      "outputs": []
    },
    {
      "cell_type": "code",
      "source": [
        "multiply = lambda x, y, z: x * y * z\n"
      ],
      "metadata": {
        "id": "rnEHO15G_PxA"
      },
      "execution_count": null,
      "outputs": []
    },
    {
      "cell_type": "code",
      "source": [
        "is_even = lambda x: x % 2 == 0\n"
      ],
      "metadata": {
        "id": "6pZjMNhq_P0C"
      },
      "execution_count": null,
      "outputs": []
    },
    {
      "cell_type": "code",
      "source": [
        "square = lambda x: x ** 2\n"
      ],
      "metadata": {
        "id": "ujZxYxpE_P2w"
      },
      "execution_count": null,
      "outputs": []
    },
    {
      "cell_type": "code",
      "source": [
        "celsius_to_fahrenheit = lambda celsius: celsius * 9/5 + 32\n"
      ],
      "metadata": {
        "id": "QD5VdAMZ_P5V"
      },
      "execution_count": null,
      "outputs": []
    },
    {
      "cell_type": "code",
      "source": [
        "string_length = lambda s: len(s)\n"
      ],
      "metadata": {
        "id": "4TB0meEe_P7w"
      },
      "execution_count": null,
      "outputs": []
    },
    {
      "cell_type": "code",
      "source": [
        "concatenate_strings = lambda a, b: a + b\n"
      ],
      "metadata": {
        "id": "k3IRTiYU_P98"
      },
      "execution_count": null,
      "outputs": []
    },
    {
      "cell_type": "code",
      "source": [
        "uppercase = lambda s: s.upper()\n"
      ],
      "metadata": {
        "id": "T4ANqdR6_d-Z"
      },
      "execution_count": null,
      "outputs": []
    },
    {
      "cell_type": "code",
      "source": [
        "is_prime = lambda n: all(n % i != 0 for i in range(2, int(n ** 0.5) + 1)) and n > 1\n"
      ],
      "metadata": {
        "id": "AV0l7Mqf_eCH"
      },
      "execution_count": null,
      "outputs": []
    },
    {
      "cell_type": "code",
      "source": [
        "average = lambda nums: sum(nums) / len(nums) if len(nums) > 0 else 0\n"
      ],
      "metadata": {
        "id": "GjH7hfVO_eEx"
      },
      "execution_count": null,
      "outputs": []
    },
    {
      "cell_type": "markdown",
      "source": [
        "##functions within other functions practical question and answers:"
      ],
      "metadata": {
        "id": "6qTOzSF6BYlg"
      }
    },
    {
      "cell_type": "code",
      "source": [
        "def outer(number):\n",
        "    def inner(x):\n",
        "        return x ** 2\n",
        "\n",
        "    return inner(number)\n"
      ],
      "metadata": {
        "id": "FfUmBqcy_eHY"
      },
      "execution_count": null,
      "outputs": []
    },
    {
      "cell_type": "code",
      "source": [
        "def power(base, exponent):\n",
        "    def calculate():\n",
        "        return base ** exponent\n",
        "\n",
        "    return calculate()\n"
      ],
      "metadata": {
        "id": "ROoC6BADBiDo"
      },
      "execution_count": null,
      "outputs": []
    },
    {
      "cell_type": "code",
      "source": [
        "def calculator(num1, num2, operator):\n",
        "    def add():\n",
        "        return num1 + num2\n",
        "\n",
        "    def subtract():\n",
        "        return num1 - num2\n",
        "\n",
        "    def multiply():\n",
        "        return num1 * num2\n",
        "\n",
        "    def divide():\n",
        "        return num1 / num2\n",
        "\n",
        "    if operator == '+':\n",
        "        return add()\n",
        "    elif operator == '-':\n",
        "        return subtract()\n",
        "    elif operator == '*':\n",
        "        return multiply()\n",
        "    elif operator == '/':\n",
        "        return divide()\n",
        "    else:\n",
        "        return \"Invalid operator\"\n"
      ],
      "metadata": {
        "id": "zUAbcwoxBlzw"
      },
      "execution_count": null,
      "outputs": []
    },
    {
      "cell_type": "code",
      "source": [
        "def counter():\n",
        "    count = 0\n",
        "\n",
        "    def increment():\n",
        "        nonlocal count\n",
        "        count += 1\n",
        "        return count\n",
        "\n",
        "    return increment\n",
        "\n",
        "increment_function = counter()\n",
        "print(increment_function())  # Output: 1\n",
        "print(increment_function())  # Output: 2\n"
      ],
      "metadata": {
        "colab": {
          "base_uri": "https://localhost:8080/"
        },
        "id": "fhHi0xcsBnX4",
        "outputId": "39f17a5f-4bb6-42ce-b39d-1e104d7e457a"
      },
      "execution_count": null,
      "outputs": [
        {
          "output_type": "stream",
          "name": "stdout",
          "text": [
            "1\n",
            "2\n"
          ]
        }
      ]
    },
    {
      "cell_type": "code",
      "source": [
        "def power_sequence(number, exponent):\n",
        "    def calculate():\n",
        "        return number ** exponent\n",
        "\n",
        "    def increment():\n",
        "        nonlocal exponent\n",
        "        exponent += 1\n",
        "        return exponent\n",
        "\n",
        "    result1 = calculate()\n",
        "    result2 = increment()\n",
        "    return result1, result2\n"
      ],
      "metadata": {
        "id": "Cf6Bgh-8BpcA"
      },
      "execution_count": null,
      "outputs": []
    }
  ]
}